{
 "cells": [
  {
   "cell_type": "markdown",
   "source": [
    "# Example for processing a WDM signal with one polarisation\n",
    "Here will be step by step example of processing a WDM signal with one polarisation.\n",
    "You need just to run all cells in order.\n",
    "There will be additional comments what is going on in each cell."
   ],
   "metadata": {
    "collapsed": false
   }
  },
  {
   "cell_type": "markdown",
   "source": [
    "## Importing libraries and setting up the environment"
   ],
   "metadata": {
    "collapsed": false
   }
  },
  {
   "cell_type": "code",
   "execution_count": 2,
   "metadata": {
    "collapsed": true,
    "ExecuteTime": {
     "end_time": "2023-07-21T10:55:05.919181496Z",
     "start_time": "2023-07-21T10:55:05.177579288Z"
    }
   },
   "outputs": [],
   "source": [
    "import numpy as np\n",
    "import tensorflow as tf\n",
    "import pandas as pd\n",
    "import matplotlib\n",
    "import matplotlib.pyplot as plt\n",
    "\n",
    "from datetime import datetime\n",
    "from importlib import reload\n",
    "\n",
    "from prettytable import PrettyTable\n",
    "from scipy.fft import fftshift, ifftshift, fft, ifft\n",
    "\n",
    "import hpcom\n",
    "from hpcom.signal import create_wdm_parameters, generate_wdm, get_points_wdm, receiver_wdm, nonlinear_shift, rrcosfilter\n",
    "from hpcom.channel import create_channel_parameters\n",
    "from hpcom.metrics import get_evm\n",
    "\n",
    "# from ssfm_gpu.propagation import propagate_manakov, dispersion_compensation_manakov\n",
    "from ssfm_gpu.propagation import propagate_schrodinger, dispersion_compensation\n",
    "from ssfm_gpu.conversion import convert_forward, convert_inverse\n",
    "\n",
    "import signal_handling.processing as prcs\n",
    "import tools.functions as fn\n",
    "\n",
    "import FNFTpy as fpy\n",
    "import PJTpy as pjt\n",
    "\n",
    "reload(prcs)\n",
    "reload(hpcom)\n",
    "\n",
    "from hpcom.signal import create_wdm_parameters, generate_wdm, get_points_wdm, receiver_wdm, nonlinear_shift, rrcosfilter"
   ]
  },
  {
   "cell_type": "markdown",
   "source": [
    "Allocate GPU memory"
   ],
   "metadata": {
    "collapsed": false
   }
  },
  {
   "cell_type": "code",
   "execution_count": 15,
   "outputs": [],
   "source": [
    "gpus = tf.config.list_physical_devices('GPU')\n",
    "if gpus:\n",
    "  # Restrict TensorFlow to only allocate 4GB of memory on the first GPU\n",
    "  try:\n",
    "    tf.config.set_logical_device_configuration(\n",
    "        gpus[0],\n",
    "        [tf.config.LogicalDeviceConfiguration(memory_limit=4096)])\n",
    "    logical_gpus = tf.config.list_logical_devices('GPU')\n",
    "    print(len(gpus), \"Physical GPUs,\", len(logical_gpus), \"Logical GPUs\")\n",
    "  except RuntimeError as e:\n",
    "    # Virtual devices must be set before GPUs have been initialized\n",
    "    print(e)"
   ],
   "metadata": {
    "collapsed": false,
    "ExecuteTime": {
     "end_time": "2023-07-21T11:07:03.434073040Z",
     "start_time": "2023-07-21T11:07:03.428184626Z"
    }
   }
  },
  {
   "cell_type": "code",
   "execution_count": 21,
   "outputs": [
    {
     "name": "stdout",
     "output_type": "stream",
     "text": [
      "[]\n"
     ]
    }
   ],
   "source": [
    "print(gpus)"
   ],
   "metadata": {
    "collapsed": false,
    "ExecuteTime": {
     "end_time": "2023-07-21T11:07:56.195130158Z",
     "start_time": "2023-07-21T11:07:56.181107867Z"
    }
   }
  },
  {
   "cell_type": "markdown",
   "source": [
    "## Setting up the parameters of signal and channel"
   ],
   "metadata": {
    "collapsed": false
   }
  },
  {
   "cell_type": "code",
   "execution_count": 16,
   "outputs": [
    {
     "name": "stdout",
     "output_type": "stream",
     "text": [
      "_16qam_34gbd_12spans_80km\n"
     ]
    }
   ],
   "source": [
    "wdm = create_wdm_parameters(n_channels=1,\n",
    "                            p_ave_dbm=3,\n",
    "                            n_symbols=2 ** 16,\n",
    "                            m_order=16,\n",
    "                            roll_off=0.1,\n",
    "                            upsampling=4,\n",
    "                            downsampling_rate=1,\n",
    "                            symb_freq=34e9,\n",
    "                            channel_spacing=75e9,\n",
    "                            n_polarisations=1,\n",
    "                            seed='fixed')\n",
    "\n",
    "channel = create_channel_parameters(n_spans=12,\n",
    "                                    z_span=80,\n",
    "                                    alpha_db=0.0,\n",
    "                                    gamma=1.2,\n",
    "                                    noise_figure_db=-200,  # -200 means there is no noise\n",
    "                                    dispersion_parameter=16.8,\n",
    "                                    dz=1)\n",
    "\n",
    "name_set = fn.form_name(wdm, channel)\n",
    "print(name_set)"
   ],
   "metadata": {
    "collapsed": false,
    "ExecuteTime": {
     "end_time": "2023-07-21T11:07:05.374456978Z",
     "start_time": "2023-07-21T11:07:05.354621470Z"
    }
   }
  },
  {
   "cell_type": "code",
   "execution_count": 17,
   "outputs": [],
   "source": [
    "signal_x, wdm_info = generate_wdm(wdm)\n",
    "points_x_orig = wdm_info['points_x'][0]\n",
    "ft_filter_values = wdm_info['ft_filter_values_x'][0] / wdm['upsampling']  # [0] index for only one WDM channel"
   ],
   "metadata": {
    "collapsed": false,
    "ExecuteTime": {
     "end_time": "2023-07-21T11:07:07.207619232Z",
     "start_time": "2023-07-21T11:07:07.063653656Z"
    }
   }
  },
  {
   "cell_type": "code",
   "execution_count": 20,
   "outputs": [
    {
     "name": "stdout",
     "output_type": "stream",
     "text": [
      "propagation took 16424.073 ms\n"
     ]
    }
   ],
   "source": [
    "start_time = datetime.now()\n",
    "signal_prop = propagate_schrodinger(channel, signal_x, sample_freq=int(wdm['symb_freq'] * wdm['upsampling']))\n",
    "print(\"propagation took\", (datetime.now() - start_time).total_seconds() * 1000, \"ms\")"
   ],
   "metadata": {
    "collapsed": false,
    "ExecuteTime": {
     "end_time": "2023-07-21T11:07:52.439137820Z",
     "start_time": "2023-07-21T11:07:36.012205988Z"
    }
   }
  },
  {
   "cell_type": "code",
   "execution_count": 19,
   "outputs": [
    {
     "name": "stdout",
     "output_type": "stream",
     "text": [
      "(-0.14671987834945488+1.268369454025334j) 1.2768272375726495\n"
     ]
    }
   ],
   "source": [
    "signal_cdc = dispersion_compensation(channel, signal_prop, 1. / wdm['sample_freq'])\n",
    "points_x_cdc = get_points_wdm(hpcom.signal.filter_shaper(signal_cdc, ft_filter_values)[::wdm['downsampling_rate']], wdm) # downsample\n",
    "shift_factor_x = np.dot(np.transpose(np.conjugate(points_x_orig)), points_x_orig) / np.dot(np.transpose(np.conjugate(points_x_orig)), points_x_cdc)\n",
    "print(shift_factor_x, np.absolute(shift_factor_x))"
   ],
   "metadata": {
    "collapsed": false,
    "ExecuteTime": {
     "end_time": "2023-07-21T11:07:34.355299298Z",
     "start_time": "2023-07-21T11:07:34.280405113Z"
    }
   }
  },
  {
   "cell_type": "code",
   "execution_count": 8,
   "outputs": [],
   "source": [
    "process_parameters = prcs.get_default_process_parameters()\n",
    "process_parameters['window_mode'] = 'cdc'\n",
    "process_parameters['n_symb_proc'] = 16\n",
    "process_parameters['n_symb_side'] = 256\n",
    "process_parameters['n_symb_total'] = process_parameters['n_symb_proc'] + 2 * process_parameters['n_symb_side']\n",
    "process_parameters['n_symb_skip'] = 1024\n",
    "process_parameters['n_symb_add'] = fn.side_to_np2(process_parameters['n_symb_proc'] + 2 * process_parameters['n_symb_side'])  # add to total number of symbols to make it power of 2"
   ],
   "metadata": {
    "collapsed": false,
    "ExecuteTime": {
     "end_time": "2023-05-15T18:54:38.973977336Z",
     "start_time": "2023-05-15T18:54:38.969846829Z"
    }
   }
  },
  {
   "cell_type": "code",
   "execution_count": 9,
   "outputs": [],
   "source": [
    "# create array to store all recovered points\n",
    "points_all = np.array([])\n",
    "points_all_nft = np.array([])"
   ],
   "metadata": {
    "collapsed": false,
    "ExecuteTime": {
     "end_time": "2023-05-15T18:54:38.987402564Z",
     "start_time": "2023-05-15T18:54:38.971507985Z"
    }
   }
  },
  {
   "cell_type": "markdown",
   "source": [
    "## Signal windowing\n",
    "<a id='signal_windowing'></a>"
   ],
   "metadata": {
    "collapsed": false
   }
  },
  {
   "cell_type": "code",
   "execution_count": 10,
   "outputs": [],
   "source": [
    "# cut the Tx and Rx signals to the size of the window\n",
    "signal_windowed_cdc, t_window_cdc = prcs.get_windowed_signal(signal_prop, signal_parameters=wdm, process_parameters=process_parameters, channel=channel)\n",
    "signal_tx_windowed_cdc, t_tx_window_cdc = prcs.get_windowed_signal(signal_x, signal_parameters=wdm, process_parameters=process_parameters, channel=channel)"
   ],
   "metadata": {
    "collapsed": false,
    "ExecuteTime": {
     "end_time": "2023-05-15T18:54:39.211199433Z",
     "start_time": "2023-05-15T18:54:38.988372299Z"
    }
   }
  },
  {
   "cell_type": "markdown",
   "source": [
    "## NFT processing"
   ],
   "metadata": {
    "collapsed": false
   }
  },
  {
   "cell_type": "markdown",
   "source": [
    "Convert signal to dimensionless form"
   ],
   "metadata": {
    "collapsed": false
   }
  },
  {
   "cell_type": "code",
   "execution_count": 11,
   "outputs": [],
   "source": [
    "convert_result = convert_inverse(signal_windowed_cdc, t_window_cdc, channel['z_span'],\n",
    "                                 channel['beta2'],\n",
    "                                 channel['gamma'],\n",
    "                                 t0=1. / wdm['symb_freq'], type='nlse')\n",
    "\n",
    "q_windowed_cdc = convert_result['q']\n",
    "t_dl_window_cdc = convert_result['t']\n",
    "dt_dl = t_dl_window_cdc[0] - t_dl_window_cdc[1]\n",
    "z_span_dimless = convert_result['z']\n",
    "z_dimless = z_span_dimless * channel['n_spans']"
   ],
   "metadata": {
    "collapsed": false,
    "ExecuteTime": {
     "end_time": "2023-05-15T18:54:39.255843500Z",
     "start_time": "2023-05-15T18:54:39.212717067Z"
    }
   }
  },
  {
   "cell_type": "markdown",
   "source": [
    "Arrange parameters for the transformation"
   ],
   "metadata": {
    "collapsed": false
   }
  },
  {
   "cell_type": "code",
   "execution_count": 12,
   "outputs": [],
   "source": [
    "t = (np.arange(len(signal_prop)) - len(signal_prop) / 2) / wdm['sample_freq']\n",
    "n_t = len(t_dl_window_cdc)\n",
    "t_span = t[-1] - t[0]\n",
    "\n",
    "# shift time to shift signal in the center of the time interval\n",
    "t_for_nft = t_dl_window_cdc - (t_dl_window_cdc[-1] + t_dl_window_cdc[0]) / 2\n",
    "\n",
    "# arrange nonlinear frequency grid \\xi\n",
    "xi_upsampling = 4\n",
    "n_xi = xi_upsampling * n_t\n",
    "rv, xi_val = fpy.nsev_inverse_xi_wrapper(n_t, t_for_nft[0], t_for_nft[-1], n_xi)\n",
    "xi = xi_val[0] + np.arange(n_xi) * (xi_val[1] - xi_val[0]) / (n_xi - 1)"
   ],
   "metadata": {
    "collapsed": false,
    "ExecuteTime": {
     "end_time": "2023-05-15T18:54:39.256090456Z",
     "start_time": "2023-05-15T18:54:39.253031233Z"
    }
   }
  },
  {
   "cell_type": "markdown",
   "source": [
    "Forward and inverse NFT"
   ],
   "metadata": {
    "collapsed": false
   }
  },
  {
   "cell_type": "code",
   "execution_count": 13,
   "outputs": [
    {
     "name": "stderr",
     "output_type": "stream",
     "text": [
      "FNFT Error: Division by zero.\n",
      " in nsev_compute_normconsts_or_residues(1035)-0.4.1\n",
      "FNFT Error: Subroutine failure.\n",
      " in fnft_nsev_base(594)-0.4.1\n",
      "FNFT Error: Subroutine failure.\n",
      " in fnft_nsev(342)-0.4.1\n",
      "/home/esf0/anaconda3/envs/nn_env/lib/python3.9/site-packages/FNFTpy/auxiliary.py:159: UserWarning: An error occured when calling FNFT: error code -3\n",
      "  warn(wstring)\n"
     ]
    },
    {
     "name": "stdout",
     "output_type": "stream",
     "text": [
      "forward NFT took 36830.02 ms\n",
      "PJT took 211972.039 ms\n"
     ]
    },
    {
     "name": "stderr",
     "output_type": "stream",
     "text": [
      "FNFT Warning: Ill-posed spectral factorization problem.\n",
      " in fnft__poly_specfact(111)-0.4.1\n"
     ]
    },
    {
     "name": "stdout",
     "output_type": "stream",
     "text": [
      "inverse NFT took 69423.39 ms\n"
     ]
    }
   ],
   "source": [
    "# Forward NFT\n",
    "fnft_type=11\n",
    "\n",
    "start_time = datetime.now()\n",
    "result_nlse = fpy.nsev(q_windowed_cdc, t_for_nft, xi[0], xi[-1], n_xi, dst=2, cst=2, dis=fnft_type, K=2048, display_c_msg=True)\n",
    "print(\"forward NFT took\", (datetime.now() - start_time).total_seconds() * 1000, \"ms\")\n",
    "start_time = datetime.now()\n",
    "result_pjt = pjt.pjt(q_windowed_cdc, t_for_nft, contSpec=None, omp_num_threads=4, display_c_msg=True)\n",
    "# result_pjt = pjt.pjt(q_windowed_cdc, t_for_nft, contSpec=np.concatenate([xi, result_nlse['cont_a']]), omp_num_threads=4, display_c_msg=True)\n",
    "print(\"PJT took\", (datetime.now() - start_time).total_seconds() * 1000, \"ms\")\n",
    "\n",
    "# Nonlinear spectrum evolution\n",
    "a = result_nlse['cont_a']\n",
    "b = result_nlse['cont_b']\n",
    "r = result_nlse['cont_ref']\n",
    "\n",
    "res = result_pjt\n",
    "\n",
    "rd = res['disc_res']\n",
    "bd = res['disc_norm']\n",
    "xi_d = res['bound_states']\n",
    "# ad = bd / rd\n",
    "\n",
    "b_prop = b * np.exp(-2. * 1.0j * z_dimless * np.power(xi, 2))\n",
    "bd_prop = bd * np.exp(-2. * 1.0j * z_dimless * np.power(xi_d, 2))\n",
    "\n",
    "# Inverse NFT\n",
    "start_time = datetime.now()\n",
    "result_nsev_inverse = fpy.nsev_inverse(xi, t_for_nft, b_prop, xi_d, bd_prop, cst=1, dst=0)\n",
    "print(\"inverse NFT took\", (datetime.now() - start_time).total_seconds() * 1000, \"ms\")\n",
    "q_fnft = result_nsev_inverse['q']"
   ],
   "metadata": {
    "collapsed": false,
    "ExecuteTime": {
     "end_time": "2023-05-15T18:59:57.508526160Z",
     "start_time": "2023-05-15T18:54:39.253188584Z"
    }
   }
  },
  {
   "cell_type": "markdown",
   "source": [
    "Inverse conversion from dimensionless form"
   ],
   "metadata": {
    "collapsed": false
   }
  },
  {
   "cell_type": "code",
   "execution_count": 14,
   "outputs": [],
   "source": [
    "convert_forward_result = convert_forward(q_fnft, t_dl_window_cdc, z_span_dimless,\n",
    "                                         channel['beta2'],\n",
    "                                         channel['gamma'],\n",
    "                                         t0=1. / wdm['symb_freq'], type='nlse')\n",
    "\n",
    "signal_nft = convert_forward_result['Q']\n",
    "t_nft = convert_forward_result['T']"
   ],
   "metadata": {
    "collapsed": false,
    "ExecuteTime": {
     "end_time": "2023-05-15T18:59:57.567352666Z",
     "start_time": "2023-05-15T18:59:57.507488261Z"
    }
   }
  },
  {
   "cell_type": "markdown",
   "source": [
    "Decode constellation points"
   ],
   "metadata": {
    "collapsed": false
   }
  },
  {
   "cell_type": "code",
   "execution_count": 24,
   "outputs": [
    {
     "name": "stdout",
     "output_type": "stream",
     "text": [
      "shift factor for x: (-1.8461984408374148+2.037204871926234j) 2.749300342478152\n"
     ]
    }
   ],
   "source": [
    "# add zeros to the end of the signal to process with the same length as the original signal\n",
    "n_signal_total = len(signal_prop)\n",
    "signal_nft_complete = np.concatenate([signal_nft, np.zeros(n_signal_total - len(signal_nft))])\n",
    "signal_nft_complete = tf.cast(signal_nft_complete, tf.complex128)\n",
    "\n",
    "points_x_nft = get_points_wdm(hpcom.signal.filter_shaper(signal_nft_complete, ft_filter_values)[::wdm['downsampling_rate']], wdm)\n",
    "\n",
    "# for NFT processed we have n_symb_add + n_symb_side points from left\n",
    "n_points_start_nft = int(process_parameters['n_symb_side'] + process_parameters['n_symb_add'])\n",
    "n_points_end_nft = int(n_points_start_nft + process_parameters['n_symb_proc'])  # restore n_symb_proc points\n",
    "range_points_nft = range(n_points_start_nft, n_points_end_nft)\n",
    "\n",
    "# for original signal we have n_symb_skip + n_symb_side points from left\n",
    "n_points_start_orig = int((process_parameters['n_symb_skip'] + process_parameters['n_symb_side']))\n",
    "n_points_end_orig = int(n_points_start_orig + process_parameters['n_symb_proc'])  # restore n_symb_proc points\n",
    "range_points_orig = range(n_points_start_orig, n_points_end_orig)\n",
    "\n",
    "# points_found = scale_p * points_x_window[range_points]\n",
    "points_found_nft = points_x_nft[range_points_nft]\n",
    "points_was_orig = points_x_orig[range_points_orig]\n",
    "\n",
    "# shift and rotate points, if needed\n",
    "shift_factor_x_nft = np.dot(np.transpose(np.conjugate(points_was_orig)), points_was_orig) / np.dot(\n",
    "    np.transpose(np.conjugate(points_was_orig)), points_found_nft)\n",
    "points_found_nft *= shift_factor_x_nft\n",
    "print(\"shift factor for x:\", shift_factor_x_nft, np.absolute(shift_factor_x_nft))"
   ],
   "metadata": {
    "collapsed": false,
    "ExecuteTime": {
     "end_time": "2023-05-15T19:04:35.315657350Z",
     "start_time": "2023-05-15T19:04:35.301293396Z"
    }
   }
  },
  {
   "cell_type": "code",
   "execution_count": 19,
   "outputs": [
    {
     "name": "stdout",
     "output_type": "stream",
     "text": [
      "+-------------------+-------------------+\n",
      "|      Field 1      |      Field 2      |\n",
      "+-------------------+-------------------+\n",
      "| -0.04238-0.04238j | -0.04312-0.04233j |\n",
      "|  0.04238-0.04238j |  0.04236-0.04120j |\n",
      "|  0.01413-0.04238j |  0.01423-0.04439j |\n",
      "| -0.04238+0.01413j | -0.04360+0.01601j |\n",
      "| -0.04238-0.01413j | -0.04073-0.01620j |\n",
      "| -0.01413+0.01413j | -0.01423+0.01467j |\n",
      "| -0.04238-0.04238j | -0.04209-0.04362j |\n",
      "|  0.04238+0.01413j |  0.04054+0.01441j |\n",
      "| -0.01413-0.01413j | -0.01237-0.01435j |\n",
      "| -0.01413-0.01413j | -0.01490-0.01407j |\n",
      "| -0.04238+0.01413j | -0.04197+0.01410j |\n",
      "| -0.04238+0.04238j | -0.04157+0.04332j |\n",
      "| -0.01413+0.01413j | -0.01421+0.01380j |\n",
      "| -0.01413-0.01413j | -0.01330-0.01431j |\n",
      "|  0.01413+0.04238j |  0.01495+0.04014j |\n",
      "| -0.01413+0.01413j | -0.01449+0.01652j |\n",
      "+-------------------+-------------------+\n"
     ]
    }
   ],
   "source": [
    "table = PrettyTable()\n",
    "for k in range(len(points_found_nft)):\n",
    "    table.add_row(['{:.5f}'.format(points_was_orig[k]),\n",
    "                   '{:.5f}'.format(points_found_nft[k])])\n",
    "\n",
    "print(table)"
   ],
   "metadata": {
    "collapsed": false,
    "ExecuteTime": {
     "end_time": "2023-05-15T19:01:43.596733280Z",
     "start_time": "2023-05-15T19:01:43.555715611Z"
    }
   }
  },
  {
   "cell_type": "markdown",
   "source": [
    "Now we can store points and continue signal processing"
   ],
   "metadata": {
    "collapsed": false
   }
  },
  {
   "cell_type": "code",
   "execution_count": 16,
   "outputs": [],
   "source": [
    "points_all = np.concatenate([points_all, points_was_orig])\n",
    "points_all_nft = np.concatenate([points_all_nft, points_found_nft])"
   ],
   "metadata": {
    "collapsed": false,
    "ExecuteTime": {
     "end_time": "2023-05-15T18:59:57.597335258Z",
     "start_time": "2023-05-15T18:59:57.591662465Z"
    }
   }
  },
  {
   "cell_type": "markdown",
   "source": [
    "Now we can increment 'n_symb_skip' by 'n_symb_proc' and continue signal processing"
   ],
   "metadata": {
    "collapsed": false
   }
  },
  {
   "cell_type": "code",
   "execution_count": 17,
   "outputs": [],
   "source": [
    "process_parameters['n_symb_skip'] += process_parameters['n_symb_proc']"
   ],
   "metadata": {
    "collapsed": false,
    "ExecuteTime": {
     "end_time": "2023-05-15T18:59:57.597451752Z",
     "start_time": "2023-05-15T18:59:57.591828964Z"
    }
   }
  },
  {
   "cell_type": "markdown",
   "source": [
    "Go to [Signal windowing](#signal_windowing) section"
   ],
   "metadata": {
    "collapsed": false
   }
  },
  {
   "cell_type": "markdown",
   "source": [
    "# Here is the same example but with single function"
   ],
   "metadata": {
    "collapsed": false
   }
  },
  {
   "cell_type": "code",
   "execution_count": 15,
   "outputs": [],
   "source": [
    "def example_nlse_processing(wdm, channel, process_parameters, job_name='test', dir='', display_c_msg=True, omp_num_threads=4, n_iter_save=1):\n",
    "\n",
    "    # display_c_msg = False\n",
    "    # omp_num_threads = 4\n",
    "    xi_upsampling = 4\n",
    "\n",
    "    # n_iter_save = 10  # Number of iterations after which to save to a parquet file\n",
    "\n",
    "    # Initialize DataFrame to hold the variables to save after every N iterations\n",
    "    intermediate_results = pd.DataFrame()\n",
    "\n",
    "    signal_x, wdm_info = generate_wdm(wdm)\n",
    "    points_x_orig = wdm_info['points_x'][0]\n",
    "    ft_filter_values = wdm_info['ft_filter_values_x'][0] / wdm['upsampling']  # [0] index for only one WDM channel\n",
    "\n",
    "    start_time = datetime.now()\n",
    "    signal_prop = propagate_schrodinger(channel, signal_x, sample_freq=int(wdm['symb_freq'] * wdm['upsampling']))\n",
    "    print(\"propagation took\", (datetime.now() - start_time).total_seconds() * 1000, \"ms\")\n",
    "\n",
    "    signal_cdc = dispersion_compensation(channel, signal_prop, 1. / wdm['sample_freq'])\n",
    "    points_x_cdc = get_points_wdm(hpcom.signal.filter_shaper(signal_cdc, ft_filter_values)[::wdm['downsampling_rate']],\n",
    "                                  wdm)  # downsample\n",
    "    shift_factor_x = np.dot(np.transpose(np.conjugate(points_x_orig)), points_x_orig) / np.dot(\n",
    "        np.transpose(np.conjugate(points_x_orig)), points_x_cdc)\n",
    "    print(shift_factor_x, np.absolute(shift_factor_x))\n",
    "\n",
    "\n",
    "    # create array to store all recovered points\n",
    "    points = np.array([])\n",
    "    points_nft = np.array([])\n",
    "    evm = np.array([])\n",
    "    return_values = np.empty((0,3), int)\n",
    "\n",
    "    for _ in range(process_parameters['n_steps']):\n",
    "        print(\"Processing iteration\", _, \"of\", process_parameters['n_steps'])  # print step number\n",
    "\n",
    "        # Signal windowing\n",
    "        # ----------------\n",
    "        # cut the Tx and Rx signals to the size of the window\n",
    "        signal_windowed_cdc, t_window_cdc = prcs.get_windowed_signal(signal_prop, signal_parameters=wdm, process_parameters=process_parameters, channel=channel)\n",
    "        signal_tx_windowed_cdc, t_tx_window_cdc = prcs.get_windowed_signal(signal_x, signal_parameters=wdm, process_parameters=process_parameters, channel=channel)\n",
    "\n",
    "\n",
    "        # Convert signal to dimensionless form\n",
    "        # ------------------------------------\n",
    "        convert_result = convert_inverse(signal_windowed_cdc, t_window_cdc, channel['z_span'],\n",
    "                                     channel['beta2'],\n",
    "                                     channel['gamma'],\n",
    "                                     t0=1. / wdm['symb_freq'], type='nlse')\n",
    "\n",
    "        q_windowed_cdc = convert_result['q']\n",
    "        t_dl_window_cdc = convert_result['t']\n",
    "        dt_dl = t_dl_window_cdc[0] - t_dl_window_cdc[1]\n",
    "        z_span_dimless = convert_result['z']\n",
    "        z_dimless = z_span_dimless * channel['n_spans']\n",
    "\n",
    "\n",
    "        # Arrange parameters for the transformation\n",
    "        # -----------------------------------------\n",
    "        t = (np.arange(len(signal_prop)) - len(signal_prop) / 2) / wdm['sample_freq']\n",
    "        n_t = len(t_dl_window_cdc)\n",
    "        t_span = t[-1] - t[0]\n",
    "\n",
    "        # shift time to shift signal in the center of the time interval\n",
    "        t_for_nft = t_dl_window_cdc - (t_dl_window_cdc[-1] + t_dl_window_cdc[0]) / 2\n",
    "\n",
    "        # arrange nonlinear frequency grid \\xi\n",
    "        # xi_upsampling = 4\n",
    "        n_xi = xi_upsampling * n_t\n",
    "        rv, xi_val = fpy.nsev_inverse_xi_wrapper(n_t, t_for_nft[0], t_for_nft[-1], n_xi)\n",
    "        xi = xi_val[0] + np.arange(n_xi) * (xi_val[1] - xi_val[0]) / (n_xi - 1)\n",
    "\n",
    "\n",
    "        # Forward NFT\n",
    "        # -----------\n",
    "        fnft_type=11\n",
    "\n",
    "        start_time = datetime.now()\n",
    "        result_nlse = fpy.nsev(q_windowed_cdc, t_for_nft, xi[0], xi[-1], n_xi, dst=3, cst=2, dis=fnft_type, K=2048, display_c_msg=display_c_msg)\n",
    "        print(\"forward NFT took\", (datetime.now() - start_time).total_seconds() * 1000, \"ms\")\n",
    "        start_time = datetime.now()\n",
    "        result_pjt = pjt.pjt(q_windowed_cdc, t_for_nft,\n",
    "                             contSpec=None, omp_num_threads=omp_num_threads, display_c_msg=display_c_msg)\n",
    "        # result_pjt = pjt.pjt(q_windowed_cdc, t_for_nft, contSpec=np.concatenate([xi, result_nlse['cont_a']]), omp_num_threads=4, display_c_msg=True)\n",
    "        print(\"PJT took\", (datetime.now() - start_time).total_seconds() * 1000, \"ms\")\n",
    "\n",
    "\n",
    "        # Nonlinear spectrum evolution\n",
    "        # ----------------------------\n",
    "        a = result_nlse['cont_a']\n",
    "        b = result_nlse['cont_b']\n",
    "        r = result_nlse['cont_ref']\n",
    "\n",
    "        res = result_pjt\n",
    "\n",
    "        rd = res['disc_res']\n",
    "        bd = res['disc_norm']\n",
    "        xi_d = res['bound_states']\n",
    "        # ad = bd / rd\n",
    "\n",
    "\n",
    "        b_prop = b * np.exp(-2. * 1.0j * z_dimless * np.power(xi, 2))\n",
    "        bd_prop = bd * np.exp(-2. * 1.0j * z_dimless * np.power(xi_d, 2))\n",
    "\n",
    "\n",
    "        # Inverse NFT\n",
    "        # -----------\n",
    "        start_time = datetime.now()\n",
    "        result_nsev_inverse = fpy.nsev_inverse(xi, t_for_nft, b_prop, xi_d, bd_prop,\n",
    "                                               cst=1, dst=0, display_c_msg=display_c_msg)\n",
    "        print(\"inverse NFT took\", (datetime.now() - start_time).total_seconds() * 1000, \"ms\")\n",
    "        q_fnft = result_nsev_inverse['q']\n",
    "\n",
    "        # print(\"RETURN VALUES FROM FNFT / PJT / IFNFT\",\n",
    "        #       result_nlse['return_value'],\n",
    "        #       res['return_value'],\n",
    "        #       result_nsev_inverse['return_value'])\n",
    "\n",
    "        # Inverse conversion from dimensionless form\n",
    "        # ------------------------------------------\n",
    "        convert_forward_result = convert_forward(q_fnft, t_dl_window_cdc, z_span_dimless,\n",
    "                                             channel['beta2'],\n",
    "                                             channel['gamma'],\n",
    "                                             t0=1. / wdm['symb_freq'], type='nlse')\n",
    "\n",
    "        signal_nft = convert_forward_result['Q']\n",
    "        t_nft = convert_forward_result['T']\n",
    "\n",
    "\n",
    "        # Decode constellation points\n",
    "        # ---------------------------\n",
    "        # add zeros to the end of the signal to process with the same length as the original signal\n",
    "        n_signal_total = len(signal_prop)\n",
    "        signal_nft_complete = np.concatenate([signal_nft, np.zeros(n_signal_total - len(signal_nft))])\n",
    "        signal_nft_complete = tf.cast(signal_nft_complete, tf.complex128)\n",
    "\n",
    "        points_x_nft = get_points_wdm(hpcom.signal.filter_shaper(signal_nft_complete, ft_filter_values)[::wdm['downsampling_rate']], wdm)\n",
    "\n",
    "        # for NFT processed we have n_symb_add + n_symb_side points from left\n",
    "        n_points_start_nft = int(process_parameters['n_symb_side'] + process_parameters['n_symb_add'])\n",
    "        n_points_end_nft = int(n_points_start_nft + process_parameters['n_symb_proc'])  # restore n_symb_proc points\n",
    "        range_points_nft = range(n_points_start_nft, n_points_end_nft)\n",
    "\n",
    "        # for original signal we have n_symb_skip + n_symb_side points from left\n",
    "        n_points_start_orig = int((process_parameters['n_symb_skip'] + process_parameters['n_symb_side']))\n",
    "        n_points_end_orig = int(n_points_start_orig + process_parameters['n_symb_proc'])  # restore n_symb_proc points\n",
    "        range_points_orig = range(n_points_start_orig, n_points_end_orig)\n",
    "\n",
    "        # points_found = scale_p * points_x_window[range_points]\n",
    "        points_found_nft = points_x_nft[range_points_nft]\n",
    "        points_was_orig = points_x_orig[range_points_orig]\n",
    "\n",
    "        # shift and rotate points, if needed\n",
    "        shift_factor_x_nft = np.dot(np.transpose(np.conjugate(points_was_orig)), points_was_orig) / np.dot(\n",
    "            np.transpose(np.conjugate(points_was_orig)), points_found_nft)\n",
    "        points_found_nft *= shift_factor_x_nft\n",
    "        print(\"shift factor for x:\", shift_factor_x_nft)\n",
    "\n",
    "\n",
    "        # Now we can store points and continue signal processing\n",
    "        # ------------------------------------------------------\n",
    "        points = np.concatenate([points, points_was_orig])\n",
    "        points_nft = np.concatenate([points_nft, points_found_nft])\n",
    "        evm = np.append(evm, get_evm(points_was_orig, points_found_nft))\n",
    "        return_values = np.append(return_values, [[result_nlse['return_value'], res['return_value'], result_nsev_inverse['return_value']]])\n",
    "\n",
    "        # Now we can increment 'n_symb_skip' by 'n_symb_proc' and continue signal processing\n",
    "        process_parameters['n_symb_skip'] += process_parameters['n_symb_proc']\n",
    "\n",
    "\n",
    "        # Create a dictionary with current values of b, r, rd, bd, xi_d, xi, q_windowed_cdc, and t_for_nft\n",
    "        iteration_data = {\n",
    "            'b': [b],\n",
    "            'r': [r],\n",
    "            'rd': [rd],\n",
    "            'bd': [bd],\n",
    "            'xi_d': [xi_d],\n",
    "            'xi': [xi],\n",
    "            'q_windowed_cdc': [q_windowed_cdc],\n",
    "            't_for_nft': [t_for_nft]\n",
    "        }\n",
    "\n",
    "        # Append the dictionary as a new row to the DataFrame\n",
    "        # intermediate_results = intermediate_results.append(iteration_data, ignore_index=True)\n",
    "        intermediate_results = pd.concat([intermediate_results, pd.DataFrame(iteration_data)], ignore_index=True)\n",
    "\n",
    "        # If the current iteration number is divisible by N, save the DataFrame to a parquet file\n",
    "        if (_ % n_iter_save == 0) or (_ == process_parameters['n_steps'] - 1):\n",
    "            # intermediate_results.to_parquet(f'results_processing' + job_name + '.parquet')\n",
    "            intermediate_results.to_pickle(dir + 'results_processing_' + job_name + '.pkl')\n",
    "\n",
    "\n",
    "\n",
    "    result = {\n",
    "        'points': points,\n",
    "        'points_nft': points_nft,\n",
    "        'evm': evm,\n",
    "        'return_values': return_values\n",
    "    }\n",
    "\n",
    "    # Store the variables in a dictionary\n",
    "    results_to_save = {\n",
    "        'signal_x': [signal_x.numpy()],\n",
    "        'wdm_info': [wdm_info],\n",
    "        'signal_prop': [signal_prop.numpy()],\n",
    "        'signal_cdc': [signal_cdc.numpy()],\n",
    "        'points_x_cdc': [points_x_cdc],\n",
    "        'points_x_orig': [points_x_orig],\n",
    "        'process_parameters': [process_parameters],\n",
    "        'wdm': [wdm],\n",
    "        'channel': [channel],\n",
    "        'points': [points],\n",
    "        'points_nft': [points_nft],\n",
    "        'evm': [evm],\n",
    "        'return_values': [return_values]\n",
    "    }\n",
    "\n",
    "    # Convert the dictionary to a pandas DataFrame\n",
    "    df = pd.DataFrame(results_to_save)\n",
    "\n",
    "    # Save the DataFrame to a parquet file\n",
    "    # df.to_parquet('results_meta_' + job_name + '.parquet')\n",
    "    df.to_pickle(dir + 'results_meta_' + job_name + '.pkl')\n",
    "\n",
    "    return result"
   ],
   "metadata": {
    "collapsed": false,
    "ExecuteTime": {
     "end_time": "2023-07-20T15:37:38.910024468Z",
     "start_time": "2023-07-20T15:37:38.899051499Z"
    }
   }
  },
  {
   "cell_type": "code",
   "execution_count": 16,
   "outputs": [
    {
     "name": "stdout",
     "output_type": "stream",
     "text": [
      "propagation took 1133.722 ms\n",
      "(-0.14671987457290264+1.268369454074717j) 1.2768272371877427\n",
      "Processing iteration 0 of 3\n",
      "forward NFT took 34.961 ms\n",
      "PJT took 8618.349 ms\n"
     ]
    },
    {
     "name": "stderr",
     "output_type": "stream",
     "text": [
      "FNFT Warning: Ill-posed spectral factorization problem.\n",
      " in fnft__poly_specfact(111)-0.4.1\n"
     ]
    },
    {
     "name": "stdout",
     "output_type": "stream",
     "text": [
      "inverse NFT took 1900.0649999999998 ms\n",
      "shift factor for x: (1.0014332254400962+0.010203908149376158j)\n",
      "Processing iteration 1 of 3\n"
     ]
    },
    {
     "name": "stderr",
     "output_type": "stream",
     "text": [
      "/tmp/ipykernel_7266/765015361.py:184: FutureWarning: The frame.append method is deprecated and will be removed from pandas in a future version. Use pandas.concat instead.\n",
      "  intermediate_results = intermediate_results.append(iteration_data, ignore_index=True)\n"
     ]
    },
    {
     "name": "stdout",
     "output_type": "stream",
     "text": [
      "forward NFT took 34.816 ms\n",
      "PJT took 10674.377 ms\n"
     ]
    },
    {
     "name": "stderr",
     "output_type": "stream",
     "text": [
      "FNFT Warning: Ill-posed spectral factorization problem.\n",
      " in fnft__poly_specfact(111)-0.4.1\n"
     ]
    },
    {
     "name": "stdout",
     "output_type": "stream",
     "text": [
      "inverse NFT took 1966.221 ms\n",
      "shift factor for x: (1.0037517904813373+0.0009218111640414312j)\n",
      "Processing iteration 2 of 3\n"
     ]
    },
    {
     "name": "stderr",
     "output_type": "stream",
     "text": [
      "/tmp/ipykernel_7266/765015361.py:184: FutureWarning: The frame.append method is deprecated and will be removed from pandas in a future version. Use pandas.concat instead.\n",
      "  intermediate_results = intermediate_results.append(iteration_data, ignore_index=True)\n"
     ]
    },
    {
     "name": "stdout",
     "output_type": "stream",
     "text": [
      "forward NFT took 34.879 ms\n",
      "PJT took 10079.033000000001 ms\n"
     ]
    },
    {
     "name": "stderr",
     "output_type": "stream",
     "text": [
      "FNFT Warning: Ill-posed spectral factorization problem.\n",
      " in fnft__poly_specfact(111)-0.4.1\n"
     ]
    },
    {
     "name": "stdout",
     "output_type": "stream",
     "text": [
      "inverse NFT took 1990.477 ms\n",
      "shift factor for x: (0.9996064651406541+0.0009289119589409591j)\n"
     ]
    },
    {
     "name": "stderr",
     "output_type": "stream",
     "text": [
      "/tmp/ipykernel_7266/765015361.py:184: FutureWarning: The frame.append method is deprecated and will be removed from pandas in a future version. Use pandas.concat instead.\n",
      "  intermediate_results = intermediate_results.append(iteration_data, ignore_index=True)\n"
     ]
    }
   ],
   "source": [
    "process_parameters = prcs.get_default_process_parameters()\n",
    "process_parameters['window_mode'] = 'cdc'\n",
    "# process_parameters['n_steps'] = 256\n",
    "process_parameters['n_steps'] = 3\n",
    "process_parameters['n_symb_proc'] = 32\n",
    "process_parameters['n_symb_side'] = 300\n",
    "process_parameters['n_symb_total'] = process_parameters['n_symb_proc'] + 2 * process_parameters['n_symb_side']\n",
    "# process_parameters['n_symb_skip'] = 1024\n",
    "process_parameters['n_symb_skip'] = 1224\n",
    "process_parameters['n_symb_add'] = fn.side_to_np2(process_parameters['n_symb_proc'] + 2 * process_parameters['n_symb_side'])  # add to total number of symbols to make it power of 2\n",
    "\n",
    "result = example_nlse_processing(wdm, channel, process_parameters, job_name='test', dir='data/')\n",
    "points = result['points']\n",
    "points_nft = result['points_nft']\n",
    "evms = result['evm']"
   ],
   "metadata": {
    "collapsed": false,
    "ExecuteTime": {
     "end_time": "2023-07-20T15:38:17.875793443Z",
     "start_time": "2023-07-20T15:37:40.608873476Z"
    }
   }
  },
  {
   "cell_type": "markdown",
   "source": [],
   "metadata": {
    "collapsed": false
   }
  },
  {
   "cell_type": "code",
   "execution_count": 135,
   "outputs": [],
   "source": [
    "def get_evm_outlier_indices(evms, n_std_dev=2.5):\n",
    "\n",
    "    mean = np.mean(evms)\n",
    "    std_dev = np.std(evms)\n",
    "\n",
    "    # Any point more than 3 standard deviations away from the mean will be considered an outlier\n",
    "    # outlier_indices = np.where(np.abs(evms - mean) > 3*std_dev)  # both sides\n",
    "    outlier_indices = np.where((evms - mean) > n_std_dev*std_dev)  # only right side (significantly bigger)\n",
    "    ok_indices = np.where((evms - mean) <= n_std_dev*std_dev)  # only right side (significantly bigger)\n",
    "\n",
    "    return outlier_indices, ok_indices\n",
    "\n",
    "def delete_outliners(points, evms, n_symb_proc, n_std_dev=2.5):\n",
    "\n",
    "    points_shaped = points.reshape((-1, n_symb_proc))  # slice with initial n_symb_proc\n",
    "    outlier_indices, ok_indices = get_evm_outlier_indices(evms, n_std_dev=n_std_dev)  # find indices to left\n",
    "    return points_shaped[ok_indices].reshape(-1)  # reshape back"
   ],
   "metadata": {
    "collapsed": false,
    "ExecuteTime": {
     "end_time": "2023-07-19T14:55:59.394674235Z",
     "start_time": "2023-07-19T14:55:59.386067852Z"
    }
   }
  },
  {
   "cell_type": "code",
   "execution_count": 136,
   "outputs": [],
   "source": [
    "points_nft_good = delete_outliners(points_nft, evms, process_parameters['n_symb_proc'], n_std_dev=2.5)"
   ],
   "metadata": {
    "collapsed": false,
    "ExecuteTime": {
     "end_time": "2023-07-19T14:56:01.759025954Z",
     "start_time": "2023-07-19T14:56:01.746600193Z"
    }
   }
  },
  {
   "cell_type": "code",
   "execution_count": 137,
   "outputs": [
    {
     "data": {
      "text/plain": "<Figure size 1440x720 with 2 Axes>",
      "image/png": "[encoded data removed]"
     },
     "metadata": {
      "needs_background": "light"
     },
     "output_type": "display_data"
    }
   ],
   "source": [
    "pk = 3\n",
    "plot_range = range(pk * process_parameters['n_symb_proc'], (pk + 1) * process_parameters['n_symb_proc'])\n",
    "\n",
    "fig, axs = plt.subplots(1, 2, figsize=(20, 10))\n",
    "# axs[0].scatter(points_nft.real, points_nft.imag, s=10, c='xkcd:green', marker='o')\n",
    "axs[0].scatter(points_nft_good.real, points_nft_good.imag, s=10, c='xkcd:green', marker='o')\n",
    "# axs[0].scatter(points_nft[plot_range].real, points_nft[plot_range].imag, s=20, c='xkcd:red', marker='o')\n",
    "# axs[0].scatter(points_nft_slice[outlier_indices].real, points_nft_slice[outlier_indices].imag, s=20, c='xkcd:red', marker='o')\n",
    "axs[0].scatter(points.real, points.imag, s=20, c='xkcd:deep blue', marker='*')\n",
    "axs[0].grid(True)\n",
    "axs[0].set_xlim([-0.05, 0.05])\n",
    "axs[0].set_ylim([-0.05, 0.05])\n",
    "\n",
    "axs[1].scatter(points.real, points.imag, s=15, c='xkcd:deep blue', marker='*')\n",
    "axs[1].grid(True)"
   ],
   "metadata": {
    "collapsed": false,
    "ExecuteTime": {
     "end_time": "2023-07-19T14:56:03.069258655Z",
     "start_time": "2023-07-19T14:56:02.949087236Z"
    }
   }
  },
  {
   "cell_type": "code",
   "execution_count": 56,
   "outputs": [
    {
     "name": "stdout",
     "output_type": "stream",
     "text": [
      "propagation took 1101.1850000000002 ms\n",
      "(-0.14671987457290264+1.268369454074717j) 1.2768272371877427\n",
      "Processing iteration 0 of 2\n",
      "forward NFT took 5197.6269999999995 ms\n",
      "PJT took 9694.331999999999 ms\n"
     ]
    },
    {
     "name": "stderr",
     "output_type": "stream",
     "text": [
      "FNFT Warning: Ill-posed spectral factorization problem.\n",
      " in fnft__poly_specfact(111)-0.4.1\n"
     ]
    },
    {
     "name": "stdout",
     "output_type": "stream",
     "text": [
      "inverse NFT took 1927.183 ms\n",
      "RETURN VALUES FROM FNFT / PJT / IFNFT 0 0 0\n",
      "shift factor for x: (0.998481248184577+0.003307373750092116j)\n",
      "Processing iteration 1 of 2\n",
      "forward NFT took 5175.309 ms\n",
      "PJT took 11414.99 ms\n"
     ]
    },
    {
     "name": "stderr",
     "output_type": "stream",
     "text": [
      "FNFT Warning: Ill-posed spectral factorization problem.\n",
      " in fnft__poly_specfact(111)-0.4.1\n"
     ]
    },
    {
     "name": "stdout",
     "output_type": "stream",
     "text": [
      "inverse NFT took 2089.377 ms\n",
      "RETURN VALUES FROM FNFT / PJT / IFNFT 0 0 0\n",
      "shift factor for x: (1.0033654868206-0.010169065342784892j)\n"
     ]
    },
    {
     "ename": "ValueError",
     "evalue": "too many values to unpack (expected 2)",
     "output_type": "error",
     "traceback": [
      "\u001B[0;31m---------------------------------------------------------------------------\u001B[0m",
      "\u001B[0;31mValueError\u001B[0m                                Traceback (most recent call last)",
      "Input \u001B[0;32mIn [56]\u001B[0m, in \u001B[0;36m<cell line: 12>\u001B[0;34m()\u001B[0m\n\u001B[1;32m      9\u001B[0m process_parameters[\u001B[38;5;124m'\u001B[39m\u001B[38;5;124mn_symb_skip\u001B[39m\u001B[38;5;124m'\u001B[39m] \u001B[38;5;241m=\u001B[39m \u001B[38;5;241m1227\u001B[39m\n\u001B[1;32m     10\u001B[0m process_parameters[\u001B[38;5;124m'\u001B[39m\u001B[38;5;124mn_symb_add\u001B[39m\u001B[38;5;124m'\u001B[39m] \u001B[38;5;241m=\u001B[39m fn\u001B[38;5;241m.\u001B[39mside_to_np2(process_parameters[\u001B[38;5;124m'\u001B[39m\u001B[38;5;124mn_symb_proc\u001B[39m\u001B[38;5;124m'\u001B[39m] \u001B[38;5;241m+\u001B[39m \u001B[38;5;241m2\u001B[39m \u001B[38;5;241m*\u001B[39m process_parameters[\u001B[38;5;124m'\u001B[39m\u001B[38;5;124mn_symb_side\u001B[39m\u001B[38;5;124m'\u001B[39m])  \u001B[38;5;66;03m# add to total number of symbols to make it power of 2\u001B[39;00m\n\u001B[0;32m---> 12\u001B[0m points_failed, points_nft_failed \u001B[38;5;241m=\u001B[39m example_nlse_processing(wdm, channel, process_parameters)\n",
      "\u001B[0;31mValueError\u001B[0m: too many values to unpack (expected 2)"
     ]
    }
   ],
   "source": [
    "process_parameters = prcs.get_default_process_parameters()\n",
    "process_parameters['window_mode'] = 'cdc'\n",
    "# process_parameters['n_steps'] = 256\n",
    "process_parameters['n_steps'] = 2\n",
    "process_parameters['n_symb_proc'] = 32\n",
    "process_parameters['n_symb_side'] = 300\n",
    "process_parameters['n_symb_total'] = process_parameters['n_symb_proc'] + 2 * process_parameters['n_symb_side']\n",
    "# process_parameters['n_symb_skip'] = 1024\n",
    "process_parameters['n_symb_skip'] = 1227\n",
    "process_parameters['n_symb_add'] = fn.side_to_np2(process_parameters['n_symb_proc'] + 2 * process_parameters['n_symb_side'])  # add to total number of symbols to make it power of 2\n",
    "\n",
    "res_failed = example_nlse_processing(wdm, channel, process_parameters)\n",
    "points_failed = res_failed['points']\n",
    "points_nft_failed = res_failed['points_nft']\n",
    "evms_failed = res_failed['evm']"
   ],
   "metadata": {
    "collapsed": false,
    "ExecuteTime": {
     "end_time": "2023-07-19T14:06:12.845543388Z",
     "start_time": "2023-07-19T14:05:35.581619635Z"
    }
   }
  },
  {
   "cell_type": "code",
   "execution_count": 39,
   "outputs": [
    {
     "data": {
      "text/plain": "<Figure size 1440x720 with 2 Axes>",
      "image/png": "[encoded data removed]"
     },
     "metadata": {
      "needs_background": "light"
     },
     "output_type": "display_data"
    }
   ],
   "source": [
    "fig, axs = plt.subplots(1, 2, figsize=(20, 10))\n",
    "axs[0].scatter(points_nft_failed.real, points_nft_failed.imag, s=10, c='xkcd:green', marker='o')\n",
    "axs[0].scatter(points_failed.real, points_failed.imag, s=20, c='xkcd:deep blue', marker='*')\n",
    "axs[0].grid(True)\n",
    "axs[0].set_xlim([-0.05, 0.05])\n",
    "axs[0].set_ylim([-0.05, 0.05])\n",
    "\n",
    "axs[1].scatter(points_failed.real, points_failed.imag, s=15, c='xkcd:deep blue', marker='*')\n",
    "axs[1].grid(True)"
   ],
   "metadata": {
    "collapsed": false,
    "ExecuteTime": {
     "end_time": "2023-07-19T13:46:38.951037917Z",
     "start_time": "2023-07-19T13:46:38.836408368Z"
    }
   }
  }
 ],
 "metadata": {
  "kernelspec": {
   "display_name": "Python 3",
   "language": "python",
   "name": "python3"
  },
  "language_info": {
   "codemirror_mode": {
    "name": "ipython",
    "version": 2
   },
   "file_extension": ".py",
   "mimetype": "text/x-python",
   "name": "python",
   "nbconvert_exporter": "python",
   "pygments_lexer": "ipython2",
   "version": "2.7.6"
  }
 },
 "nbformat": 4,
 "nbformat_minor": 0
}
