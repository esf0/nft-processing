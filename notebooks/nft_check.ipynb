{
 "cells": [
  {
   "cell_type": "code",
   "execution_count": 1,
   "metadata": {
    "collapsed": true
   },
   "outputs": [
    {
     "name": "stdout",
     "output_type": "stream",
     "text": [
      "(1024,)\n",
      "<class 'numpy.ndarray'>\n",
      "Time:  1.9096257\n"
     ]
    }
   ],
   "source": [
    "import FNFTpy as fpy\n",
    "import numpy as np\n",
    "import timeit\n",
    "\n",
    "from importlib import reload\n",
    "reload(fpy)\n",
    "\n",
    "\n",
    "n_span = 2**10\n",
    "np_symbol = 4\n",
    "q = np.random.random_sample((n_span)) + 1j * np.random.random_sample((n_span))\n",
    "\n",
    "print(np.shape(q))\n",
    "print(type(q))\n",
    "# print(q)\n",
    "\n",
    "t_span = 1. * n_span / np_symbol\n",
    "\n",
    "dt = t_span / n_span\n",
    "t = np.linspace(-t_span / 2., t_span / 2. - dt, n_span)\n",
    "# print(t)\n",
    "xi_span = np.pi / (2. * dt)\n",
    "dxi = xi_span / n_span\n",
    "xi = np.linspace(-xi_span / 2., xi_span / 2. - dxi, n_span)\n",
    "\n",
    "start = timeit.default_timer()\n",
    "\n",
    "# res = nsev(q, t, M=n_span, Xi1=-xi_span / 2., Xi2=xi_span / 2. - dxi, bsl=1, dis=27)\n",
    "# res = nsev(q, t, M=n_span, Xi1=-xi_span / 2., Xi2=xi_span / 2. - dxi, bsl=1, dis=27, kappa=1)\n",
    "res = fpy.nsev(q, t, M=n_span, Xi1=-xi_span / 2., Xi2=xi_span / 2. - dxi)\n",
    "# cont_spec = res['cont_ref']\n",
    "\n",
    "\n",
    "stop = timeit.default_timer()\n",
    "\n",
    "print('Time: ', stop - start)"
   ]
  },
  {
   "cell_type": "code",
   "execution_count": null,
   "outputs": [],
   "source": [
    "from importlib import reload"
   ],
   "metadata": {
    "collapsed": false
   }
  },
  {
   "cell_type": "code",
   "execution_count": 18,
   "outputs": [
    {
     "name": "stdout",
     "output_type": "stream",
     "text": [
      "Hello\n"
     ]
    }
   ],
   "source": [
    "print(\"Hello\")"
   ],
   "metadata": {
    "collapsed": false
   }
  }
 ],
 "metadata": {
  "kernelspec": {
   "display_name": "Python 3",
   "language": "python",
   "name": "python3"
  },
  "language_info": {
   "codemirror_mode": {
    "name": "ipython",
    "version": 2
   },
   "file_extension": ".py",
   "mimetype": "text/x-python",
   "name": "python",
   "nbconvert_exporter": "python",
   "pygments_lexer": "ipython2",
   "version": "2.7.6"
  }
 },
 "nbformat": 4,
 "nbformat_minor": 0
}
