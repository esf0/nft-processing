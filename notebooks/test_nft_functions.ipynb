{
 "cells": [
  {
   "cell_type": "markdown",
   "source": [
    "# In this file we test all NFT functions from nft_analyse.py"
   ],
   "metadata": {
    "collapsed": false,
    "pycharm": {
     "name": "#%% md\n"
    }
   }
  },
  {
   "cell_type": "markdown",
   "source": [
    "## Import"
   ],
   "metadata": {
    "collapsed": false,
    "pycharm": {
     "name": "#%% md\n"
    }
   }
  },
  {
   "cell_type": "code",
   "execution_count": null,
   "outputs": [],
   "source": [
    "import sys\n",
    "# adding signal_handling to the system path\n",
    "# sys.path.insert(0, '../signal_handling/')\n",
    "# sys.path.insert(0, '../nft_handling/')\n",
    "# sys.path.insert(0, '../pjt/')\n",
    "\n",
    "from FNFTpy import nsev, nsev_poly\n",
    "from FNFTpy import nsev_inverse, nsev_inverse_xi_wrapper\n",
    "import numpy as np\n",
    "import pandas as pd\n",
    "import random\n",
    "import timeit\n",
    "from tqdm import tqdm\n",
    "from scipy.fft import fft, ifft, fftfreq, fftshift, ifftshift\n",
    "\n",
    "import matplotlib.pyplot as plt\n",
    "import matplotlib\n",
    "\n",
    "from importlib import reload\n",
    "\n",
    "import ssfm\n",
    "reload(ssfm)\n",
    "\n",
    "import signal_generation as sg\n",
    "reload(sg)\n",
    "\n",
    "import nft_analyse as nft\n",
    "reload(nft)\n",
    "\n",
    "import test_signals\n",
    "from pjt import pjt"
   ],
   "metadata": {
    "collapsed": false,
    "pycharm": {
     "name": "#%%\n"
    }
   }
  },
  {
   "cell_type": "markdown",
   "source": [
    "## Create signal"
   ],
   "metadata": {
    "collapsed": false,
    "pycharm": {
     "name": "#%% md\n"
    }
   }
  },
  {
   "cell_type": "code",
   "execution_count": null,
   "outputs": [],
   "source": [
    "ampl = 2\n",
    "chirp = 0.1\n",
    "\n",
    "t_span = 64.0\n",
    "n_t = 2 ** 10\n",
    "\n",
    "dt = t_span / (n_t - 1)\n",
    "t = np.array([i * dt - t_span / 2. for i in range(n_t)])\n",
    "\n",
    "xi_span = np.pi / dt\n",
    "n_xi = 2 ** 8\n",
    "d_xi = xi_span / (n_xi - 1)\n",
    "xi = np.array([i * d_xi - xi_span / 2. for i in range(n_xi)])\n",
    "\n",
    "q, a_xi, b_xi, xi_discr, b_discr, r_discr, ad_discr = test_signals.get_sech(t, xi, a=ampl, c=chirp)\n",
    "print(len(xi_discr), xi_discr)\n",
    "z_prop = 4.3\n",
    "q_prop = ssfm.fiber_propogate(q, t_span, z_prop, n_span=2 ** 9, gamma=1, beta2=-1)\n",
    "\n",
    "matplotlib.rcParams.update({'font.size': 30})\n",
    "# color = ['red', 'blue', 'green', 'xkcd:light purple', 'xkcd:cyan']\n",
    "fig, axs = plt.subplots(1, 1, figsize=(20, 5))\n",
    "axs.plot(t, np.absolute(q), 'xkcd:cyan', linewidth=3)\n",
    "axs.plot(t, np.absolute(q_prop), 'xkcd:lime green', linewidth=3)\n",
    "axs.grid(True)\n",
    "\n",
    "# print(b_xi)"
   ],
   "metadata": {
    "collapsed": false,
    "pycharm": {
     "name": "#%%\n"
    }
   }
  },
  {
   "cell_type": "markdown",
   "source": [
    "result_cont = get_continuous_spectrum(q, t, xi=None, type='fnft', xi_upsampling=1, fnft_type=0, nft_type='bo', res_poly=None, coefficient_type='left')"
   ],
   "metadata": {
    "collapsed": false,
    "pycharm": {
     "name": "#%% md\n"
    }
   }
  },
  {
   "cell_type": "code",
   "execution_count": null,
   "outputs": [],
   "source": [
    "z_back = z_prop\n",
    "xi_upsampling = 1\n",
    "forward_continuous_type='fnft'\n",
    "forward_discrete_type='fnft'\n",
    "forward_discrete_coef_type='bi-direct'\n",
    "inverse_type='both'\n",
    "fnft_type=0\n",
    "nft_type='bo'\n",
    "use_contour = False\n",
    "n_discrete_skip = 2\n",
    "\n",
    "res_dbp = nft.make_dbp_nft(q_prop, t, z_back, xi_upsampling=xi_upsampling,\n",
    "                           forward_continuous_type=forward_continuous_type,\n",
    "                           forward_discrete_type=forward_discrete_type,\n",
    "                           forward_discrete_coef_type=forward_discrete_coef_type,\n",
    "                           inverse_type=inverse_type,\n",
    "                           fnft_type=fnft_type, nft_type=nft_type,\n",
    "                           use_contour=use_contour, n_discrete_skip=n_discrete_skip,\n",
    "                           print_sys_message=True)\n",
    "\n",
    "q_tib_total = res_dbp['q_total']\n",
    "q_tib_left = res_dbp['q_tib_left']\n",
    "q_tib_right = res_dbp['q_tib_right']\n",
    "q_fnft = res_dbp['q_fnft']\n",
    "\n",
    "xi_d_calculated = res_dbp['xi_d']\n",
    "print(xi_d_calculated)\n",
    "print(xi_discr)\n",
    "\n",
    "\n",
    "\n",
    "\n",
    "# for fnft len(xi) == len(q)\n",
    "res = nsev_inverse(xi, t, b_xi, xi_discr, b_discr / ad_discr, cst=1, dst=0, dis=fnft_type)\n",
    "q_fnft_still = res['q']\n",
    "\n",
    "print(np.shape(b_xi), np.shape(xi))"
   ],
   "metadata": {
    "collapsed": false,
    "pycharm": {
     "name": "#%%\n"
    }
   }
  },
  {
   "cell_type": "code",
   "execution_count": null,
   "outputs": [],
   "source": [
    "matplotlib.rcParams.update({'font.size': 30})\n",
    "color = ['red', 'blue', 'green', 'xkcd:light purple', 'xkcd:cyan', 'xkcd:lime green']\n",
    "fig, axs = plt.subplots(2, 1, figsize=(20, 10))\n",
    "axs[0].plot(t, np.absolute(q), color[0], linewidth=10)\n",
    "axs[0].plot(t, np.absolute(q_tib_total), color[1], linewidth=7)\n",
    "axs[0].plot(t, np.absolute(q_tib_left), color[2], linewidth=5)\n",
    "axs[0].plot(t, np.absolute(q_tib_right), color[3], linewidth=3)\n",
    "axs[0].plot(t, np.absolute(q_fnft), color[4], linewidth=3)\n",
    "axs[0].plot(t, np.absolute(q_fnft_still), color[5], linewidth=3)\n",
    "axs[0].grid(True)\n",
    "axs[0].set_xlim(-5, 5)\n",
    "axs[0].set_ylim(0, ampl + 0.5)\n",
    "\n",
    "axs[1].plot(t, np.absolute(q - q_tib_total), color[1], linewidth=10)\n",
    "axs[1].plot(t, np.absolute(q - q_tib_left), color[2], linewidth=3)\n",
    "axs[1].plot(t, np.absolute(q - q_tib_right), color[3], linewidth=3)\n",
    "axs[1].plot(t, np.absolute(q - q_fnft), color[4], linewidth=3)\n",
    "axs[1].plot(t, np.absolute(q - q_fnft_still), color[5], linewidth=3)\n",
    "axs[1].grid(True)\n",
    "axs[1].set_yscale('log')\n",
    "\n",
    "#set y ticks\n",
    "y_major = matplotlib.ticker.LogLocator(base = 10.0, numticks = 5)\n",
    "axs[1].yaxis.set_major_locator(y_major)\n",
    "y_minor = matplotlib.ticker.LogLocator(base = 10.0, subs = np.arange(1.0, 10.0) * 0.1, numticks = 10)\n",
    "axs[1].yaxis.set_minor_locator(y_minor)\n",
    "axs[1].yaxis.set_minor_formatter(matplotlib.ticker.NullFormatter())"
   ],
   "metadata": {
    "collapsed": false,
    "pycharm": {
     "name": "#%%\n"
    }
   }
  }
 ],
 "metadata": {
  "kernelspec": {
   "display_name": "Python 3",
   "language": "python",
   "name": "python3"
  },
  "language_info": {
   "codemirror_mode": {
    "name": "ipython",
    "version": 2
   },
   "file_extension": ".py",
   "mimetype": "text/x-python",
   "name": "python",
   "nbconvert_exporter": "python",
   "pygments_lexer": "ipython2",
   "version": "2.7.6"
  }
 },
 "nbformat": 4,
 "nbformat_minor": 0
}
